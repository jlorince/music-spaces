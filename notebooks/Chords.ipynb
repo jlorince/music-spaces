{
 "cells": [
  {
   "cell_type": "code",
   "execution_count": 231,
   "metadata": {
    "collapsed": false
   },
   "outputs": [],
   "source": [
    "# setup\n",
    "import pandas as pd\n",
    "import numpy as np\n",
    "from matplotlib import pyplot as plt\n",
    "import seaborn\n",
    "import sys\n",
    "sys.path.append('../')\n",
    "from clean_chords import *\n",
    "%matplotlib inline"
   ]
  },
  {
   "cell_type": "markdown",
   "metadata": {},
   "source": [
    "Now, overall we have ~1.3M entries in the chords table and ~91k songs in the metadata table (but don't get excited yet), and since these are all broken down by Gracenote ID it should be straightforward to connect this with our  data (once Kris has finished joining everything)"
   ]
  },
  {
   "cell_type": "code",
   "execution_count": 325,
   "metadata": {
    "collapsed": false
   },
   "outputs": [
    {
     "name": "stdout",
     "output_type": "stream",
     "text": [
      "13330638 91428\n"
     ]
    }
   ],
   "source": [
    "# read in raw data \n",
    "chords = pd.read_table('../data/chords/song_chord.tsv',usecols=[1,2,3,4])\n",
    "metadata = pd.read_table('../data/chords/song_metadata.tsv',usecols=[1,2,3,4])\n",
    "\n",
    "# total raw data length\n",
    "print len(chords),len(metadata)\n"
   ]
  },
  {
   "cell_type": "markdown",
   "metadata": {},
   "source": [
    "Another former IU colleague shared some simple cleaning code that resolves the raw \"chord\" column in the above table to a root chord, a chord type, and a standardized name for each unique chord. Some examples:"
   ]
  },
  {
   "cell_type": "code",
   "execution_count": 233,
   "metadata": {
    "collapsed": false
   },
   "outputs": [
    {
     "name": "stdout",
     "output_type": "stream",
     "text": [
      "Chord  Amin mapped to root= A, type= minor, stdname=   Am\n",
      "Chord    Am mapped to root= A, type= minor, stdname=   Am\n",
      "Chord    AM mapped to root= A, type= major, stdname=    A\n",
      "Chord    A* mapped to root= A, type= major, stdname=    A\n",
      "Chord   A7* mapped to root= A, type=  dom7, stdname=   A7\n",
      "Chord A#aug mapped to root=A#, type=   aug, stdname=A#aug\n",
      "Chord  BbM7 mapped to root=Bb, type=major7, stdname= BbM7\n",
      "Chord    GM mapped to root= G, type= major, stdname=    G\n",
      "Chord Gmaj7 mapped to root= G, type=major7, stdname=  GM7\n",
      "Chord    G5 mapped to root= G, type= power, stdname=   G5\n",
      "Chord  blah mapped to root=INVALID, type=INVALID, stdname=INVALID\n",
      "Chord INVALID mapped to root=INVALID, type=INVALID, stdname=INVALID\n"
     ]
    }
   ],
   "source": [
    "to_test = ['Amin','Am','AM','A*','A7*','A#aug','BbM7', 'GM','Gmaj7','G5', 'blah','INVALID']\n",
    "for t in to_test:\n",
    "    print 'Chord %5s mapped to root=%2s, type=%6s, stdname=%5s' % (t, chord2root(t), chord2type(t), stdname(t))"
   ]
  },
  {
   "cell_type": "code",
   "execution_count": 327,
   "metadata": {
    "collapsed": false
   },
   "outputs": [],
   "source": [
    "# format chord data with Artemy's cleaning code\n",
    "chords['root'] = chords.chord.apply(lambda x: chord2root(x))\n",
    "chords['type'] = chords.chord.apply(lambda x: chord2type(x))\n",
    "chords['stdname'] = chords.chord.apply(lambda x: stdname(x))\n"
   ]
  },
  {
   "cell_type": "code",
   "execution_count": 328,
   "metadata": {
    "collapsed": false
   },
   "outputs": [
    {
     "data": {
      "text/html": [
       "<div>\n",
       "<table border=\"1\" class=\"dataframe\">\n",
       "  <thead>\n",
       "    <tr style=\"text-align: right;\">\n",
       "      <th></th>\n",
       "      <th>songID</th>\n",
       "      <th>locID</th>\n",
       "      <th>chord</th>\n",
       "      <th>chordType</th>\n",
       "      <th>root</th>\n",
       "      <th>type</th>\n",
       "      <th>stdname</th>\n",
       "    </tr>\n",
       "  </thead>\n",
       "  <tbody>\n",
       "    <tr>\n",
       "      <th>0</th>\n",
       "      <td>0</td>\n",
       "      <td>1</td>\n",
       "      <td>C#</td>\n",
       "      <td>major</td>\n",
       "      <td>C#</td>\n",
       "      <td>major</td>\n",
       "      <td>C#</td>\n",
       "    </tr>\n",
       "    <tr>\n",
       "      <th>1</th>\n",
       "      <td>0</td>\n",
       "      <td>2</td>\n",
       "      <td>A</td>\n",
       "      <td>major</td>\n",
       "      <td>A</td>\n",
       "      <td>major</td>\n",
       "      <td>A</td>\n",
       "    </tr>\n",
       "    <tr>\n",
       "      <th>2</th>\n",
       "      <td>0</td>\n",
       "      <td>3</td>\n",
       "      <td>C#</td>\n",
       "      <td>major</td>\n",
       "      <td>C#</td>\n",
       "      <td>major</td>\n",
       "      <td>C#</td>\n",
       "    </tr>\n",
       "    <tr>\n",
       "      <th>3</th>\n",
       "      <td>0</td>\n",
       "      <td>4</td>\n",
       "      <td>A</td>\n",
       "      <td>major</td>\n",
       "      <td>A</td>\n",
       "      <td>major</td>\n",
       "      <td>A</td>\n",
       "    </tr>\n",
       "    <tr>\n",
       "      <th>4</th>\n",
       "      <td>0</td>\n",
       "      <td>5</td>\n",
       "      <td>B</td>\n",
       "      <td>major</td>\n",
       "      <td>B</td>\n",
       "      <td>major</td>\n",
       "      <td>B</td>\n",
       "    </tr>\n",
       "  </tbody>\n",
       "</table>\n",
       "</div>"
      ],
      "text/plain": [
       "   songID  locID chord chordType root   type stdname\n",
       "0       0      1    C#     major   C#  major      C#\n",
       "1       0      2     A     major    A  major       A\n",
       "2       0      3    C#     major   C#  major      C#\n",
       "3       0      4     A     major    A  major       A\n",
       "4       0      5     B     major    B  major       B"
      ]
     },
     "execution_count": 328,
     "metadata": {},
     "output_type": "execute_result"
    }
   ],
   "source": [
    "chords.head()"
   ]
  },
  {
   "cell_type": "markdown",
   "metadata": {},
   "source": [
    "Now, to get a more meaningful look at things, I started with a simple heuristic: Limit analysis to songs with (a) at least 10 valid chord entries and (b) where the total proportion of invalid chords was less than 10% of the total chords for that song. Of course we can tweak these values, but it seemed a reasonable starting point."
   ]
  },
  {
   "cell_type": "code",
   "execution_count": 236,
   "metadata": {
    "collapsed": false
   },
   "outputs": [
    {
     "data": {
      "text/html": [
       "<div>\n",
       "<table border=\"1\" class=\"dataframe\">\n",
       "  <thead>\n",
       "    <tr style=\"text-align: right;\">\n",
       "      <th></th>\n",
       "      <th>songID</th>\n",
       "      <th>GNID</th>\n",
       "      <th>gn_artist</th>\n",
       "      <th>gn_song</th>\n",
       "      <th>n</th>\n",
       "      <th>invalid</th>\n",
       "    </tr>\n",
       "  </thead>\n",
       "  <tbody>\n",
       "    <tr>\n",
       "      <th>0</th>\n",
       "      <td>0</td>\n",
       "      <td>208659287-3D1452F255934F4BF1021EDC9795B764</td>\n",
       "      <td>009 Sound System</td>\n",
       "      <td>Speak To Angels</td>\n",
       "      <td>24</td>\n",
       "      <td>0</td>\n",
       "    </tr>\n",
       "    <tr>\n",
       "      <th>1</th>\n",
       "      <td>1</td>\n",
       "      <td>7295343-FD308EFDE84AC10B32414095DB4CAAAE</td>\n",
       "      <td>10,000 Maniacs</td>\n",
       "      <td>A Campfire Song</td>\n",
       "      <td>26</td>\n",
       "      <td>0</td>\n",
       "    </tr>\n",
       "    <tr>\n",
       "      <th>2</th>\n",
       "      <td>5</td>\n",
       "      <td>7411946-9D409CE02704BD0D79C5838E1E016958</td>\n",
       "      <td>10,000 Maniacs</td>\n",
       "      <td>Everyone A Puzzle Lover</td>\n",
       "      <td>5</td>\n",
       "      <td>0</td>\n",
       "    </tr>\n",
       "    <tr>\n",
       "      <th>3</th>\n",
       "      <td>6</td>\n",
       "      <td>7295341-3C430BB4CA9E433705B0D4DE66E736EA</td>\n",
       "      <td>10,000 Maniacs</td>\n",
       "      <td>Gun Shy</td>\n",
       "      <td>89</td>\n",
       "      <td>0</td>\n",
       "    </tr>\n",
       "    <tr>\n",
       "      <th>4</th>\n",
       "      <td>7</td>\n",
       "      <td>4296604-FD5D213C43C45E5FB47C9146D1105014</td>\n",
       "      <td>10,000 Maniacs</td>\n",
       "      <td>How You've Grown</td>\n",
       "      <td>84</td>\n",
       "      <td>0</td>\n",
       "    </tr>\n",
       "  </tbody>\n",
       "</table>\n",
       "</div>"
      ],
      "text/plain": [
       "   songID                                        GNID         gn_artist  \\\n",
       "0       0  208659287-3D1452F255934F4BF1021EDC9795B764  009 Sound System   \n",
       "1       1    7295343-FD308EFDE84AC10B32414095DB4CAAAE    10,000 Maniacs   \n",
       "2       5    7411946-9D409CE02704BD0D79C5838E1E016958    10,000 Maniacs   \n",
       "3       6    7295341-3C430BB4CA9E433705B0D4DE66E736EA    10,000 Maniacs   \n",
       "4       7    4296604-FD5D213C43C45E5FB47C9146D1105014    10,000 Maniacs   \n",
       "\n",
       "                   gn_song   n  invalid  \n",
       "0          Speak To Angels  24        0  \n",
       "1          A Campfire Song  26        0  \n",
       "2  Everyone A Puzzle Lover   5        0  \n",
       "3                  Gun Shy  89        0  \n",
       "4         How You've Grown  84        0  "
      ]
     },
     "execution_count": 236,
     "metadata": {},
     "output_type": "execute_result"
    }
   ],
   "source": [
    "# get song coverage info (i.e. total number of chords per song, and number of invalid chords per song)\n",
    "song_coverage = chords.groupby('songID').apply(lambda x: pd.Series([len(x),len(x[x.chordType=='INVALID'])],index=['n','invalid']))\n",
    "joined = metadata.join(song_coverage,on='songID',how='inner')\n",
    "joined.head()"
   ]
  },
  {
   "cell_type": "code",
   "execution_count": 238,
   "metadata": {
    "collapsed": false
   },
   "outputs": [],
   "source": [
    "# select only those songs where less than 10% of all chords are invalid and there are at least 10 valid chords\n",
    "trimmed = joined[((joined.invalid.astype(float)/joined.n)<.1)&((joined.n-joined.invalid)>=10)].reset_index(drop=True)\n",
    "# join everything together\n",
    "final = chords.join(trimmed.set_index('songID'),on='songID',how='inner')"
   ]
  },
  {
   "cell_type": "markdown",
   "metadata": {},
   "source": [
    "This brings us to 4.3M chord events (with 189 unique chord types) across ~72k songs and 12.5k unique artists:"
   ]
  },
  {
   "cell_type": "code",
   "execution_count": 254,
   "metadata": {
    "collapsed": false
   },
   "outputs": [
    {
     "name": "stdout",
     "output_type": "stream",
     "text": [
      "4308943 189 72930 12560\n"
     ]
    }
   ],
   "source": [
    "print len(final),len(final.stdname.unique()),len(final.songID.unique()),len(final.gn_artist.unique())"
   ]
  },
  {
   "cell_type": "markdown",
   "metadata": {},
   "source": [
    "Now, the overall distribution of chord types is heavy tailed, but here's the distribution of the top 100 most ocmmon chords (across all songs):"
   ]
  },
  {
   "cell_type": "code",
   "execution_count": 258,
   "metadata": {
    "collapsed": false
   },
   "outputs": [
    {
     "data": {
      "image/png": "[encoded data removed]",
      "text/plain": [
       "<matplotlib.figure.Figure at 0x14e57c550>"
      ]
     },
     "metadata": {},
     "output_type": "display_data"
    }
   ],
   "source": [
    "fig,ax=plt.subplots(1,1,figsize=(18,4))\n",
    "final['stdname'].value_counts()[:100].plot(kind='bar',ax=ax)\n",
    "ax.set_ylabel('frequency');"
   ]
  },
  {
   "cell_type": "markdown",
   "metadata": {},
   "source": [
    "And here we have the distribution of number of chord events per song (log-log scale here):"
   ]
  },
  {
   "cell_type": "code",
   "execution_count": 268,
   "metadata": {
    "collapsed": false
   },
   "outputs": [
    {
     "name": "stdout",
     "output_type": "stream",
     "text": [
      "count    72930.000000\n",
      "mean        59.083203\n",
      "std         45.158653\n",
      "min         10.000000\n",
      "25%         32.000000\n",
      "50%         53.000000\n",
      "75%         77.000000\n",
      "max       2360.000000\n",
      "Name: chord, dtype: float64\n"
     ]
    },
    {
     "data": {
      "image/png": "[encoded data removed]",
      "text/plain": [
       "<matplotlib.figure.Figure at 0x13600be50>"
      ]
     },
     "metadata": {},
     "output_type": "display_data"
    }
   ],
   "source": [
    "countBySong = final.groupby('songID')['chord'].count()\n",
    "print countBySong.describe()\n",
    "bins = np.arange(0,2000,1)\n",
    "fig,ax = plt.subplots(1,1)\n",
    "ax.plot(np.histogram(countBySong,bins=bins)[0])\n",
    "ax.set_xlabel('N chord events'); ax.set_ylabel('N songs')\n",
    "ax.set_xlim(10,2000)\n",
    "ax.set_yscale('log')\n",
    "ax.set_xscale('log');"
   ]
  },
  {
   "cell_type": "markdown",
   "metadata": {},
   "source": [
    "Now, let's play with this a bit and see if the chord dat is telling us anything coherent. Below I combined all the songs by a few example artists, and build a prob. distribution of all the chords they use across all songs in the data. I repeat this for the unique chords, root chords, and chord types (major, minor, etc.), and in each case compute the pairwise Jensen-Shannon diverges between these prob. distributions. If you don't want to look through the things, the short story is that things aren't super intuitive. AS we would expect, Katy Perry and Britney Spears (2 pop artists) tend to be really similar, but in many cases Motorhead ends up coming up more similar to one of them than it does to Metallica, which is a bit surprising.\n",
    "\n",
    "Now, whether refelcts a problem with the data, or simply that it does not align to our intuitive, gestalt notions of artist similarity reamins to be seen (and of course this is just looking at a few silly examples). Thoughts appreciated!\n",
    "\n",
    "I'm also looking into perhaps applying some text mining approaches to the chord data (e.g. think of songs or artists as documents, and chords as words), but I'm skeptical that there's enought data to work with, at least at the song level. At the very least, we have some new features to possibly enrich other analyses."
   ]
  },
  {
   "cell_type": "code",
   "execution_count": 343,
   "metadata": {
    "collapsed": false
   },
   "outputs": [
    {
     "name": "stdout",
     "output_type": "stream",
     "text": [
      "['C#' 'A' 'B' 'D' 'E' 'F#' 'C' 'G' 'Am' 'C#m' 'Em' 'F' 'Dm' 'Am7' 'Bb' 'Bm'\n",
      " 'F#m' 'D#' 'G#' 'D5' 'A5' 'C5' 'F5' 'C#5' 'G#5' 'B5' 'Eb' 'A#' 'A#5' 'B7'\n",
      " 'A7' 'E7' 'Abm' 'Db' 'F#7' 'Gm' 'Cm7' 'F#5' 'E5' 'Cm' 'G#m' 'Bbm' 'Ebm'\n",
      " 'Fm' 'Ab' 'FM7' 'G5' 'Bb5' 'Bm7' 'Em7' 'Dm7' 'G7' 'CM7' 'F7' 'A#m' 'D#5'\n",
      " 'D#m' 'D7' 'C#m7' 'C7' 'Ab7' 'Eb5' 'Gb' 'Db5' 'Gbm' 'DM7' 'Ddim' 'Bbm7'\n",
      " 'Ebm7' 'G#m7' 'G#m6' 'AM7' 'Em6' 'Am6' 'C#7' 'Gm7' 'Daug' 'Fdim' 'D#dim'\n",
      " 'Fm6' 'Bbm6' 'Bb7' 'GM7' 'EM7' 'F#m7' 'F#dim' 'Dm6' 'G#dim' 'Bm6' 'Dbm'\n",
      " 'Cdim' 'Fm7' 'DbM7' 'Cb' 'Cm6' 'D#7' 'Aaug' 'Ab5' 'G#7' 'Db7' 'Edim' 'Gm6'\n",
      " 'F#aug' 'A#7' 'Cdim7' 'G#dim7' 'A#m7' 'EbM7' 'Dbdim' 'Gb7' 'Gbm7' 'C#dim'\n",
      " 'BbM7' 'BM7' 'G#M7' 'Eb7' 'C#M7' 'D#m7' 'B#dim7' 'F#dim7' 'Abm7' 'Fbm'\n",
      " 'Ebdim' 'D#M7' 'Gaug' 'A#M7' 'Dbm7' 'Adim7' 'Faug' 'F#M7' 'AbM7' 'C#dim7'\n",
      " 'Abdim7' 'Bdim' 'Edim7' 'Gdim' 'Dbdim7' 'Ebaug' 'B#m' 'B#' 'Bbdim' 'Eaug'\n",
      " 'D#aug' 'Adim' 'A#dim' 'Fb5' 'C#m6' 'Abm6' 'Fdim7' 'Baug' 'Ddim7' 'Bbaug'\n",
      " 'Bdim7' 'Bbdim7' 'Caug' 'C#aug' 'Abdim' 'Cbm' 'G#aug' 'B#7' 'GbM7'\n",
      " 'Ebdim7' 'B#5' 'Gbdim' 'D#dim7' 'Gdim7' 'CbM7' 'Abaug' 'Gaug7' 'E#' 'F#m6'\n",
      " 'Fb' 'A#dim7' 'Dbaug' 'Ebm6' 'Dbm6' 'Gbdim7' 'Caug7' 'F#aug7' 'A6'\n",
      " 'C#aug7' 'Gb5' 'D#m6' 'E#5' 'Gbm6' 'Aaug7' 'Cb5' 'E#m']\n",
      "['C#' 'A' 'B' 'D' 'E' 'F#' 'C' 'G' 'F' 'Bb' 'D#' 'G#' 'Eb' 'A#' 'Ab' 'Db'\n",
      " 'Gb' 'Cb' 'B#' 'Fb' 'E#']\n",
      "['major' 'minor' 'minor7' 'power' 'dom7' 'major7' 'dim' 'minor6' 'aug'\n",
      " 'dim7' 'aug7' 'major6']\n"
     ]
    }
   ],
   "source": [
    "all_chords = final['stdname'].unique()\n",
    "all_root_chords = final['root'].unique()\n",
    "all_chord_types = final['type'].unique()\n",
    "\n",
    "all_chords = all_chords[all_chords!=\"INVALID\"]\n",
    "all_root_chords = all_root_chords[all_root_chords!=\"INVALID\"]\n",
    "all_chord_types = all_chord_types[all_chord_types!=\"INVALID\"]\n",
    "\n",
    "from scipy.stats import entropy\n",
    "# jensen shannon devergence\n",
    "def jsd(p,q):\n",
    "    p = p / float(p.sum())\n",
    "    q = q / float(q.sum())\n",
    "    return entropy((p+q)/2.)-0.5*entropy(p)-.5*entropy(q)\n",
    "\n",
    "print all_chords\n",
    "print all_root_chords\n",
    "print all_chord_types"
   ]
  },
  {
   "cell_type": "code",
   "execution_count": 344,
   "metadata": {
    "collapsed": false,
    "scrolled": true
   },
   "outputs": [
    {
     "name": "stdout",
     "output_type": "stream",
     "text": [
      "metallica <-> motorhead 0.19379747048\n",
      "metallica <-> britney spears 0.303834132155\n",
      "metallica <-> katy perry 0.254598223777\n",
      "motorhead <-> britney spears 0.25881255273\n",
      "motorhead <-> katy perry 0.139843052996\n",
      "britney spears <-> katy perry 0.104297859612\n"
     ]
    }
   ],
   "source": [
    "kp = final[final.gn_artist=='Katy Perry'].stdname.value_counts().reindex(all_chords,fill_value=0).values\n",
    "met = final[final.gn_artist=='Metallica'].stdname.value_counts().reindex(all_chords,fill_value=0).values\n",
    "bs = final[final.gn_artist=='Britney Spears'].stdname.value_counts().reindex(all_chords,fill_value=0).values\n",
    "mot = final[final.gn_artist=='Motorhead'].stdname.value_counts().reindex(all_chords,fill_value=0).values\n",
    "\n",
    "print 'metallica <-> motorhead',jsd(met,mot)\n",
    "print 'metallica <-> britney spears',jsd(met,bs)\n",
    "print 'metallica <-> katy perry',jsd(met,kp)\n",
    "print 'motorhead <-> britney spears',jsd(mot,bs)\n",
    "print 'motorhead <-> katy perry',jsd(mot,kp)\n",
    "print 'britney spears <-> katy perry',jsd(bs,kp)\n"
   ]
  },
  {
   "cell_type": "code",
   "execution_count": 345,
   "metadata": {
    "collapsed": false
   },
   "outputs": [
    {
     "name": "stdout",
     "output_type": "stream",
     "text": [
      "metallica <-> motorhead 0.058489140026\n",
      "metallica <-> britney spears 0.0606560100476\n",
      "metallica <-> katy perry 0.0286677058913\n",
      "motorhead <-> britney spears 0.165483296041\n",
      "motorhead <-> katy perry 0.0842959044825\n",
      "britney spears <-> katy perry 0.0561721778459\n"
     ]
    }
   ],
   "source": [
    "kp = final[final.gn_artist=='Katy Perry']['root'].value_counts().reindex(all_root_chords,fill_value=0).values\n",
    "met = final[final.gn_artist=='Metallica']['root'].value_counts().reindex(all_root_chords,fill_value=0).values\n",
    "bs = final[final.gn_artist=='Britney Spears']['root'].value_counts().reindex(all_root_chords,fill_value=0).values\n",
    "mot = final[final.gn_artist=='Motorhead']['root'].value_counts().reindex(all_root_chords,fill_value=0).values\n",
    "\n",
    "print 'metallica <-> motorhead',jsd(met,mot)\n",
    "print 'metallica <-> britney spears',jsd(met,bs)\n",
    "print 'metallica <-> katy perry',jsd(met,kp)\n",
    "print 'motorhead <-> britney spears',jsd(mot,bs)\n",
    "print 'motorhead <-> katy perry',jsd(mot,kp)\n",
    "print 'britney spears <-> katy perry',jsd(bs,kp)\n"
   ]
  },
  {
   "cell_type": "code",
   "execution_count": 346,
   "metadata": {
    "collapsed": false
   },
   "outputs": [
    {
     "name": "stdout",
     "output_type": "stream",
     "text": [
      "metallica <-> motorhead 0.1340975583\n",
      "metallica <-> britney spears 0.233418052759\n",
      "metallica <-> katy perry 0.225600139457\n",
      "motorhead <-> britney spears 0.0355584782402\n",
      "motorhead <-> katy perry 0.0371373661088\n",
      "britney spears <-> katy perry 0.00766636250699\n"
     ]
    }
   ],
   "source": [
    "kp = final[final.gn_artist=='Katy Perry']['type'].value_counts().reindex(all_chord_types,fill_value=0).values\n",
    "met = final[final.gn_artist=='Metallica']['type'].value_counts().reindex(all_chord_types,fill_value=0).values\n",
    "bs = final[final.gn_artist=='Britney Spears']['type'].value_counts().reindex(all_chord_types,fill_value=0).values\n",
    "mot = final[final.gn_artist=='Motorhead']['type'].value_counts().reindex(all_chord_types,fill_value=0).values\n",
    "\n",
    "print 'metallica <-> motorhead',jsd(met,mot)\n",
    "print 'metallica <-> britney spears',jsd(met,bs)\n",
    "print 'metallica <-> katy perry',jsd(met,kp)\n",
    "print 'motorhead <-> britney spears',jsd(mot,bs)\n",
    "print 'motorhead <-> katy perry',jsd(mot,kp)\n",
    "print 'britney spears <-> katy perry',jsd(bs,kp)\n"
   ]
  },
  {
   "cell_type": "code",
   "execution_count": null,
   "metadata": {
    "collapsed": true
   },
   "outputs": [],
   "source": []
  }
 ],
 "metadata": {
  "anaconda-cloud": {},
  "kernelspec": {
   "display_name": "Python [conda root]",
   "language": "python",
   "name": "conda-root-py"
  },
  "language_info": {
   "codemirror_mode": {
    "name": "ipython",
    "version": 2
   },
   "file_extension": ".py",
   "mimetype": "text/x-python",
   "name": "python",
   "nbconvert_exporter": "python",
   "pygments_lexer": "ipython2",
   "version": "2.7.12"
  }
 },
 "nbformat": 4,
 "nbformat_minor": 0
}
